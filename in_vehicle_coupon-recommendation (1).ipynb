{
 "cells": [
  {
   "cell_type": "code",
   "execution_count": 1,
   "id": "770ffef1",
   "metadata": {},
   "outputs": [],
   "source": [
    "import numpy as np\n",
    "import pandas as pd\n",
    "import seaborn as sns\n",
    "import matplotlib.pyplot as plt\n",
    "from sklearn.linear_model import LogisticRegression \n",
    "from sklearn import svm \n",
    "from sklearn.tree import DecisionTreeClassifier\n",
    "from sklearn.naive_bayes import GaussianNB \n",
    "from sklearn.neighbors import KNeighborsClassifier \n",
    "from sklearn.preprocessing import LabelEncoder\n",
    "from sklearn.model_selection import train_test_split\n",
    "from sklearn.model_selection import cross_val_score\n",
    "from sklearn.model_selection import cross_val_predict\n",
    "from sklearn.model_selection import KFold\n",
    "from sklearn.metrics import confusion_matrix\n",
    "from sklearn.metrics import classification_report\n",
    "import statsmodels.api as sm\n",
    "sns.set(rc={'figure.figsize':(6,6)})"
   ]
  },
  {
   "cell_type": "code",
   "execution_count": 2,
   "id": "aac6d268",
   "metadata": {},
   "outputs": [],
   "source": [
    "data=pd.read_csv('in-vehicle-coupon-recommendation.csv')"
   ]
  },
  {
   "cell_type": "code",
   "execution_count": 3,
   "id": "14b6014c",
   "metadata": {
    "scrolled": false
   },
   "outputs": [
    {
     "data": {
      "text/html": [
       "<div>\n",
       "<style scoped>\n",
       "    .dataframe tbody tr th:only-of-type {\n",
       "        vertical-align: middle;\n",
       "    }\n",
       "\n",
       "    .dataframe tbody tr th {\n",
       "        vertical-align: top;\n",
       "    }\n",
       "\n",
       "    .dataframe thead th {\n",
       "        text-align: right;\n",
       "    }\n",
       "</style>\n",
       "<table border=\"1\" class=\"dataframe\">\n",
       "  <thead>\n",
       "    <tr style=\"text-align: right;\">\n",
       "      <th></th>\n",
       "      <th>destination</th>\n",
       "      <th>passanger</th>\n",
       "      <th>weather</th>\n",
       "      <th>temperature</th>\n",
       "      <th>time</th>\n",
       "      <th>coupon</th>\n",
       "      <th>expiration</th>\n",
       "      <th>gender</th>\n",
       "      <th>age</th>\n",
       "      <th>maritalStatus</th>\n",
       "      <th>...</th>\n",
       "      <th>CoffeeHouse</th>\n",
       "      <th>CarryAway</th>\n",
       "      <th>RestaurantLessThan20</th>\n",
       "      <th>Restaurant20To50</th>\n",
       "      <th>toCoupon_GEQ5min</th>\n",
       "      <th>toCoupon_GEQ15min</th>\n",
       "      <th>toCoupon_GEQ25min</th>\n",
       "      <th>direction_same</th>\n",
       "      <th>direction_opp</th>\n",
       "      <th>Y</th>\n",
       "    </tr>\n",
       "  </thead>\n",
       "  <tbody>\n",
       "    <tr>\n",
       "      <th>0</th>\n",
       "      <td>No Urgent Place</td>\n",
       "      <td>Alone</td>\n",
       "      <td>Sunny</td>\n",
       "      <td>55</td>\n",
       "      <td>2PM</td>\n",
       "      <td>Restaurant(&lt;20)</td>\n",
       "      <td>1d</td>\n",
       "      <td>Female</td>\n",
       "      <td>21</td>\n",
       "      <td>Unmarried partner</td>\n",
       "      <td>...</td>\n",
       "      <td>never</td>\n",
       "      <td>NaN</td>\n",
       "      <td>4~8</td>\n",
       "      <td>1~3</td>\n",
       "      <td>1</td>\n",
       "      <td>0</td>\n",
       "      <td>0</td>\n",
       "      <td>0</td>\n",
       "      <td>1</td>\n",
       "      <td>1</td>\n",
       "    </tr>\n",
       "    <tr>\n",
       "      <th>1</th>\n",
       "      <td>No Urgent Place</td>\n",
       "      <td>Friend(s)</td>\n",
       "      <td>Sunny</td>\n",
       "      <td>80</td>\n",
       "      <td>10AM</td>\n",
       "      <td>Coffee House</td>\n",
       "      <td>2h</td>\n",
       "      <td>Female</td>\n",
       "      <td>21</td>\n",
       "      <td>Unmarried partner</td>\n",
       "      <td>...</td>\n",
       "      <td>never</td>\n",
       "      <td>NaN</td>\n",
       "      <td>4~8</td>\n",
       "      <td>1~3</td>\n",
       "      <td>1</td>\n",
       "      <td>0</td>\n",
       "      <td>0</td>\n",
       "      <td>0</td>\n",
       "      <td>1</td>\n",
       "      <td>0</td>\n",
       "    </tr>\n",
       "    <tr>\n",
       "      <th>2</th>\n",
       "      <td>No Urgent Place</td>\n",
       "      <td>Friend(s)</td>\n",
       "      <td>Sunny</td>\n",
       "      <td>80</td>\n",
       "      <td>10AM</td>\n",
       "      <td>Carry out &amp; Take away</td>\n",
       "      <td>2h</td>\n",
       "      <td>Female</td>\n",
       "      <td>21</td>\n",
       "      <td>Unmarried partner</td>\n",
       "      <td>...</td>\n",
       "      <td>never</td>\n",
       "      <td>NaN</td>\n",
       "      <td>4~8</td>\n",
       "      <td>1~3</td>\n",
       "      <td>1</td>\n",
       "      <td>1</td>\n",
       "      <td>0</td>\n",
       "      <td>0</td>\n",
       "      <td>1</td>\n",
       "      <td>1</td>\n",
       "    </tr>\n",
       "    <tr>\n",
       "      <th>3</th>\n",
       "      <td>No Urgent Place</td>\n",
       "      <td>Friend(s)</td>\n",
       "      <td>Sunny</td>\n",
       "      <td>80</td>\n",
       "      <td>2PM</td>\n",
       "      <td>Coffee House</td>\n",
       "      <td>2h</td>\n",
       "      <td>Female</td>\n",
       "      <td>21</td>\n",
       "      <td>Unmarried partner</td>\n",
       "      <td>...</td>\n",
       "      <td>never</td>\n",
       "      <td>NaN</td>\n",
       "      <td>4~8</td>\n",
       "      <td>1~3</td>\n",
       "      <td>1</td>\n",
       "      <td>1</td>\n",
       "      <td>0</td>\n",
       "      <td>0</td>\n",
       "      <td>1</td>\n",
       "      <td>0</td>\n",
       "    </tr>\n",
       "    <tr>\n",
       "      <th>4</th>\n",
       "      <td>No Urgent Place</td>\n",
       "      <td>Friend(s)</td>\n",
       "      <td>Sunny</td>\n",
       "      <td>80</td>\n",
       "      <td>2PM</td>\n",
       "      <td>Coffee House</td>\n",
       "      <td>1d</td>\n",
       "      <td>Female</td>\n",
       "      <td>21</td>\n",
       "      <td>Unmarried partner</td>\n",
       "      <td>...</td>\n",
       "      <td>never</td>\n",
       "      <td>NaN</td>\n",
       "      <td>4~8</td>\n",
       "      <td>1~3</td>\n",
       "      <td>1</td>\n",
       "      <td>1</td>\n",
       "      <td>0</td>\n",
       "      <td>0</td>\n",
       "      <td>1</td>\n",
       "      <td>0</td>\n",
       "    </tr>\n",
       "    <tr>\n",
       "      <th>...</th>\n",
       "      <td>...</td>\n",
       "      <td>...</td>\n",
       "      <td>...</td>\n",
       "      <td>...</td>\n",
       "      <td>...</td>\n",
       "      <td>...</td>\n",
       "      <td>...</td>\n",
       "      <td>...</td>\n",
       "      <td>...</td>\n",
       "      <td>...</td>\n",
       "      <td>...</td>\n",
       "      <td>...</td>\n",
       "      <td>...</td>\n",
       "      <td>...</td>\n",
       "      <td>...</td>\n",
       "      <td>...</td>\n",
       "      <td>...</td>\n",
       "      <td>...</td>\n",
       "      <td>...</td>\n",
       "      <td>...</td>\n",
       "      <td>...</td>\n",
       "    </tr>\n",
       "    <tr>\n",
       "      <th>12679</th>\n",
       "      <td>Home</td>\n",
       "      <td>Partner</td>\n",
       "      <td>Rainy</td>\n",
       "      <td>55</td>\n",
       "      <td>6PM</td>\n",
       "      <td>Carry out &amp; Take away</td>\n",
       "      <td>1d</td>\n",
       "      <td>Male</td>\n",
       "      <td>26</td>\n",
       "      <td>Single</td>\n",
       "      <td>...</td>\n",
       "      <td>never</td>\n",
       "      <td>1~3</td>\n",
       "      <td>4~8</td>\n",
       "      <td>1~3</td>\n",
       "      <td>1</td>\n",
       "      <td>0</td>\n",
       "      <td>0</td>\n",
       "      <td>1</td>\n",
       "      <td>0</td>\n",
       "      <td>1</td>\n",
       "    </tr>\n",
       "    <tr>\n",
       "      <th>12680</th>\n",
       "      <td>Work</td>\n",
       "      <td>Alone</td>\n",
       "      <td>Rainy</td>\n",
       "      <td>55</td>\n",
       "      <td>7AM</td>\n",
       "      <td>Carry out &amp; Take away</td>\n",
       "      <td>1d</td>\n",
       "      <td>Male</td>\n",
       "      <td>26</td>\n",
       "      <td>Single</td>\n",
       "      <td>...</td>\n",
       "      <td>never</td>\n",
       "      <td>1~3</td>\n",
       "      <td>4~8</td>\n",
       "      <td>1~3</td>\n",
       "      <td>1</td>\n",
       "      <td>0</td>\n",
       "      <td>0</td>\n",
       "      <td>0</td>\n",
       "      <td>1</td>\n",
       "      <td>1</td>\n",
       "    </tr>\n",
       "    <tr>\n",
       "      <th>12681</th>\n",
       "      <td>Work</td>\n",
       "      <td>Alone</td>\n",
       "      <td>Snowy</td>\n",
       "      <td>30</td>\n",
       "      <td>7AM</td>\n",
       "      <td>Coffee House</td>\n",
       "      <td>1d</td>\n",
       "      <td>Male</td>\n",
       "      <td>26</td>\n",
       "      <td>Single</td>\n",
       "      <td>...</td>\n",
       "      <td>never</td>\n",
       "      <td>1~3</td>\n",
       "      <td>4~8</td>\n",
       "      <td>1~3</td>\n",
       "      <td>1</td>\n",
       "      <td>0</td>\n",
       "      <td>0</td>\n",
       "      <td>1</td>\n",
       "      <td>0</td>\n",
       "      <td>0</td>\n",
       "    </tr>\n",
       "    <tr>\n",
       "      <th>12682</th>\n",
       "      <td>Work</td>\n",
       "      <td>Alone</td>\n",
       "      <td>Snowy</td>\n",
       "      <td>30</td>\n",
       "      <td>7AM</td>\n",
       "      <td>Bar</td>\n",
       "      <td>1d</td>\n",
       "      <td>Male</td>\n",
       "      <td>26</td>\n",
       "      <td>Single</td>\n",
       "      <td>...</td>\n",
       "      <td>never</td>\n",
       "      <td>1~3</td>\n",
       "      <td>4~8</td>\n",
       "      <td>1~3</td>\n",
       "      <td>1</td>\n",
       "      <td>1</td>\n",
       "      <td>1</td>\n",
       "      <td>0</td>\n",
       "      <td>1</td>\n",
       "      <td>0</td>\n",
       "    </tr>\n",
       "    <tr>\n",
       "      <th>12683</th>\n",
       "      <td>Work</td>\n",
       "      <td>Alone</td>\n",
       "      <td>Sunny</td>\n",
       "      <td>80</td>\n",
       "      <td>7AM</td>\n",
       "      <td>Restaurant(20-50)</td>\n",
       "      <td>2h</td>\n",
       "      <td>Male</td>\n",
       "      <td>26</td>\n",
       "      <td>Single</td>\n",
       "      <td>...</td>\n",
       "      <td>never</td>\n",
       "      <td>1~3</td>\n",
       "      <td>4~8</td>\n",
       "      <td>1~3</td>\n",
       "      <td>1</td>\n",
       "      <td>0</td>\n",
       "      <td>0</td>\n",
       "      <td>1</td>\n",
       "      <td>0</td>\n",
       "      <td>0</td>\n",
       "    </tr>\n",
       "  </tbody>\n",
       "</table>\n",
       "<p>12684 rows × 26 columns</p>\n",
       "</div>"
      ],
      "text/plain": [
       "           destination  passanger weather  temperature  time  \\\n",
       "0      No Urgent Place      Alone   Sunny           55   2PM   \n",
       "1      No Urgent Place  Friend(s)   Sunny           80  10AM   \n",
       "2      No Urgent Place  Friend(s)   Sunny           80  10AM   \n",
       "3      No Urgent Place  Friend(s)   Sunny           80   2PM   \n",
       "4      No Urgent Place  Friend(s)   Sunny           80   2PM   \n",
       "...                ...        ...     ...          ...   ...   \n",
       "12679             Home    Partner   Rainy           55   6PM   \n",
       "12680             Work      Alone   Rainy           55   7AM   \n",
       "12681             Work      Alone   Snowy           30   7AM   \n",
       "12682             Work      Alone   Snowy           30   7AM   \n",
       "12683             Work      Alone   Sunny           80   7AM   \n",
       "\n",
       "                      coupon expiration  gender age      maritalStatus  ...  \\\n",
       "0            Restaurant(<20)         1d  Female  21  Unmarried partner  ...   \n",
       "1               Coffee House         2h  Female  21  Unmarried partner  ...   \n",
       "2      Carry out & Take away         2h  Female  21  Unmarried partner  ...   \n",
       "3               Coffee House         2h  Female  21  Unmarried partner  ...   \n",
       "4               Coffee House         1d  Female  21  Unmarried partner  ...   \n",
       "...                      ...        ...     ...  ..                ...  ...   \n",
       "12679  Carry out & Take away         1d    Male  26             Single  ...   \n",
       "12680  Carry out & Take away         1d    Male  26             Single  ...   \n",
       "12681           Coffee House         1d    Male  26             Single  ...   \n",
       "12682                    Bar         1d    Male  26             Single  ...   \n",
       "12683      Restaurant(20-50)         2h    Male  26             Single  ...   \n",
       "\n",
       "       CoffeeHouse CarryAway RestaurantLessThan20 Restaurant20To50  \\\n",
       "0            never       NaN                  4~8              1~3   \n",
       "1            never       NaN                  4~8              1~3   \n",
       "2            never       NaN                  4~8              1~3   \n",
       "3            never       NaN                  4~8              1~3   \n",
       "4            never       NaN                  4~8              1~3   \n",
       "...            ...       ...                  ...              ...   \n",
       "12679        never       1~3                  4~8              1~3   \n",
       "12680        never       1~3                  4~8              1~3   \n",
       "12681        never       1~3                  4~8              1~3   \n",
       "12682        never       1~3                  4~8              1~3   \n",
       "12683        never       1~3                  4~8              1~3   \n",
       "\n",
       "      toCoupon_GEQ5min toCoupon_GEQ15min toCoupon_GEQ25min direction_same  \\\n",
       "0                    1                 0                 0              0   \n",
       "1                    1                 0                 0              0   \n",
       "2                    1                 1                 0              0   \n",
       "3                    1                 1                 0              0   \n",
       "4                    1                 1                 0              0   \n",
       "...                ...               ...               ...            ...   \n",
       "12679                1                 0                 0              1   \n",
       "12680                1                 0                 0              0   \n",
       "12681                1                 0                 0              1   \n",
       "12682                1                 1                 1              0   \n",
       "12683                1                 0                 0              1   \n",
       "\n",
       "      direction_opp  Y  \n",
       "0                 1  1  \n",
       "1                 1  0  \n",
       "2                 1  1  \n",
       "3                 1  0  \n",
       "4                 1  0  \n",
       "...             ... ..  \n",
       "12679             0  1  \n",
       "12680             1  1  \n",
       "12681             0  0  \n",
       "12682             1  0  \n",
       "12683             0  0  \n",
       "\n",
       "[12684 rows x 26 columns]"
      ]
     },
     "execution_count": 3,
     "metadata": {},
     "output_type": "execute_result"
    }
   ],
   "source": [
    "data"
   ]
  },
  {
   "cell_type": "code",
   "execution_count": 4,
   "id": "347640f8",
   "metadata": {},
   "outputs": [
    {
     "data": {
      "text/plain": [
       "(12684, 26)"
      ]
     },
     "execution_count": 4,
     "metadata": {},
     "output_type": "execute_result"
    }
   ],
   "source": [
    "data.shape"
   ]
  },
  {
   "cell_type": "code",
   "execution_count": 5,
   "id": "c8a0978a",
   "metadata": {},
   "outputs": [
    {
     "name": "stdout",
     "output_type": "stream",
     "text": [
      "<class 'pandas.core.frame.DataFrame'>\n",
      "RangeIndex: 12684 entries, 0 to 12683\n",
      "Data columns (total 26 columns):\n",
      " #   Column                Non-Null Count  Dtype \n",
      "---  ------                --------------  ----- \n",
      " 0   destination           12684 non-null  object\n",
      " 1   passanger             12684 non-null  object\n",
      " 2   weather               12684 non-null  object\n",
      " 3   temperature           12684 non-null  int64 \n",
      " 4   time                  12684 non-null  object\n",
      " 5   coupon                12684 non-null  object\n",
      " 6   expiration            12684 non-null  object\n",
      " 7   gender                12684 non-null  object\n",
      " 8   age                   12684 non-null  object\n",
      " 9   maritalStatus         12684 non-null  object\n",
      " 10  has_children          12684 non-null  int64 \n",
      " 11  education             12684 non-null  object\n",
      " 12  occupation            12684 non-null  object\n",
      " 13  income                12684 non-null  object\n",
      " 14  car                   108 non-null    object\n",
      " 15  Bar                   12577 non-null  object\n",
      " 16  CoffeeHouse           12467 non-null  object\n",
      " 17  CarryAway             12533 non-null  object\n",
      " 18  RestaurantLessThan20  12554 non-null  object\n",
      " 19  Restaurant20To50      12495 non-null  object\n",
      " 20  toCoupon_GEQ5min      12684 non-null  int64 \n",
      " 21  toCoupon_GEQ15min     12684 non-null  int64 \n",
      " 22  toCoupon_GEQ25min     12684 non-null  int64 \n",
      " 23  direction_same        12684 non-null  int64 \n",
      " 24  direction_opp         12684 non-null  int64 \n",
      " 25  Y                     12684 non-null  int64 \n",
      "dtypes: int64(8), object(18)\n",
      "memory usage: 2.5+ MB\n"
     ]
    }
   ],
   "source": [
    "data.info()"
   ]
  },
  {
   "cell_type": "code",
   "execution_count": 6,
   "id": "366638fb",
   "metadata": {},
   "outputs": [
    {
     "data": {
      "text/plain": [
       "car                     99.148534\n",
       "CoffeeHouse              1.710817\n",
       "Restaurant20To50         1.490066\n",
       "CarryAway                1.190476\n",
       "RestaurantLessThan20     1.024913\n",
       "Bar                      0.843582\n",
       "destination              0.000000\n",
       "passanger                0.000000\n",
       "direction_opp            0.000000\n",
       "direction_same           0.000000\n",
       "toCoupon_GEQ25min        0.000000\n",
       "toCoupon_GEQ15min        0.000000\n",
       "toCoupon_GEQ5min         0.000000\n",
       "income                   0.000000\n",
       "occupation               0.000000\n",
       "education                0.000000\n",
       "has_children             0.000000\n",
       "maritalStatus            0.000000\n",
       "age                      0.000000\n",
       "gender                   0.000000\n",
       "expiration               0.000000\n",
       "coupon                   0.000000\n",
       "time                     0.000000\n",
       "temperature              0.000000\n",
       "weather                  0.000000\n",
       "Y                        0.000000\n",
       "dtype: float64"
      ]
     },
     "execution_count": 6,
     "metadata": {},
     "output_type": "execute_result"
    }
   ],
   "source": [
    "data.isnull().sum().sort_values(ascending=False) * 100 /len(data)"
   ]
  },
  {
   "cell_type": "markdown",
   "id": "181071b8",
   "metadata": {},
   "source": [
    "# AS THE CAR FEATURE IS 99.148534% EMPTY I AM DROPPING THIS FEATURE"
   ]
  },
  {
   "cell_type": "code",
   "execution_count": 7,
   "id": "f3f0027f",
   "metadata": {},
   "outputs": [],
   "source": [
    "data.drop(columns=['car'],axis=1,inplace=True)"
   ]
  },
  {
   "cell_type": "code",
   "execution_count": 8,
   "id": "bc461dca",
   "metadata": {},
   "outputs": [
    {
     "data": {
      "text/plain": [
       "CoffeeHouse             1.710817\n",
       "Restaurant20To50        1.490066\n",
       "CarryAway               1.190476\n",
       "RestaurantLessThan20    1.024913\n",
       "Bar                     0.843582\n",
       "dtype: float64"
      ]
     },
     "execution_count": 8,
     "metadata": {},
     "output_type": "execute_result"
    }
   ],
   "source": [
    "data[['CoffeeHouse','Restaurant20To50','CarryAway','RestaurantLessThan20','Bar']].isnull().sum().sort_values(ascending=False) * 100 /len(data)"
   ]
  },
  {
   "cell_type": "markdown",
   "id": "887984da",
   "metadata": {},
   "source": [
    "# AS THE TOTAL EMPTY ROWS CONSTITUTE ONLY 5% OF THE DATA,WE CAN DROP THOSE ROWS ,AS WE KNOW IT WILL NOT AFFECT THE ANALYSIS."
   ]
  },
  {
   "cell_type": "code",
   "execution_count": 9,
   "id": "096d00ed",
   "metadata": {},
   "outputs": [
    {
     "name": "stdout",
     "output_type": "stream",
     "text": [
      "Shape of train data Before dropping any Row:  (12684, 25)\n",
      "Shape of train data After dropping Rows with NULL values:  (12577, 25)\n",
      "Shape of train data After dropping Rows with NULL values:  (12402, 25)\n",
      "Shape of train data After dropping Rows with NULL values:  (12293, 25)\n",
      "Shape of train data After dropping Rows with NULL values:  (12205, 25)\n",
      "Shape of train data After dropping Rows with NULL values:  (12079, 25)\n"
     ]
    }
   ],
   "source": [
    "print(\"Shape of train data Before dropping any Row: \",data.shape)\n",
    "data = data[data['Bar'].notna()]\n",
    "print(\"Shape of train data After dropping Rows with NULL values: \",data.shape)\n",
    "data = data[data['CoffeeHouse'].notna()]\n",
    "print(\"Shape of train data After dropping Rows with NULL values: \",data.shape)\n",
    "data = data[data['CarryAway'].notna()]\n",
    "print(\"Shape of train data After dropping Rows with NULL values: \",data.shape)\n",
    "data = data[data['RestaurantLessThan20'].notna()]\n",
    "print(\"Shape of train data After dropping Rows with NULL values: \",data.shape)\n",
    "data = data[data['Restaurant20To50'].notna()]\n",
    "print(\"Shape of train data After dropping Rows with NULL values: \",data.shape)"
   ]
  },
  {
   "cell_type": "code",
   "execution_count": 10,
   "id": "30ea3f57",
   "metadata": {},
   "outputs": [],
   "source": [
    "data = data.reset_index(drop=True)"
   ]
  },
  {
   "cell_type": "code",
   "execution_count": 11,
   "id": "3be20da2",
   "metadata": {
    "scrolled": false
   },
   "outputs": [
    {
     "name": "stdout",
     "output_type": "stream",
     "text": [
      "<class 'pandas.core.frame.DataFrame'>\n",
      "RangeIndex: 12079 entries, 0 to 12078\n",
      "Data columns (total 25 columns):\n",
      " #   Column                Non-Null Count  Dtype \n",
      "---  ------                --------------  ----- \n",
      " 0   destination           12079 non-null  object\n",
      " 1   passanger             12079 non-null  object\n",
      " 2   weather               12079 non-null  object\n",
      " 3   temperature           12079 non-null  int64 \n",
      " 4   time                  12079 non-null  object\n",
      " 5   coupon                12079 non-null  object\n",
      " 6   expiration            12079 non-null  object\n",
      " 7   gender                12079 non-null  object\n",
      " 8   age                   12079 non-null  object\n",
      " 9   maritalStatus         12079 non-null  object\n",
      " 10  has_children          12079 non-null  int64 \n",
      " 11  education             12079 non-null  object\n",
      " 12  occupation            12079 non-null  object\n",
      " 13  income                12079 non-null  object\n",
      " 14  Bar                   12079 non-null  object\n",
      " 15  CoffeeHouse           12079 non-null  object\n",
      " 16  CarryAway             12079 non-null  object\n",
      " 17  RestaurantLessThan20  12079 non-null  object\n",
      " 18  Restaurant20To50      12079 non-null  object\n",
      " 19  toCoupon_GEQ5min      12079 non-null  int64 \n",
      " 20  toCoupon_GEQ15min     12079 non-null  int64 \n",
      " 21  toCoupon_GEQ25min     12079 non-null  int64 \n",
      " 22  direction_same        12079 non-null  int64 \n",
      " 23  direction_opp         12079 non-null  int64 \n",
      " 24  Y                     12079 non-null  int64 \n",
      "dtypes: int64(8), object(17)\n",
      "memory usage: 2.3+ MB\n"
     ]
    }
   ],
   "source": [
    "data.info()"
   ]
  },
  {
   "cell_type": "code",
   "execution_count": 12,
   "id": "0f3dbfe3",
   "metadata": {
    "scrolled": false
   },
   "outputs": [
    {
     "data": {
      "image/png": "[encoded data removed]",
      "text/plain": [
       "<Figure size 360x360 with 1 Axes>"
      ]
     },
     "metadata": {},
     "output_type": "display_data"
    }
   ],
   "source": [
    "sns.catplot(x='Y',data=data,kind='count')\n",
    "plt.show()"
   ]
  },
  {
   "cell_type": "code",
   "execution_count": 13,
   "id": "756d4dd1",
   "metadata": {
    "scrolled": false
   },
   "outputs": [
    {
     "data": {
      "image/png": "[encoded data removed]",
      "text/plain": [
       "<Figure size 1125.72x1080 with 1 Axes>"
      ]
     },
     "metadata": {},
     "output_type": "display_data"
    }
   ],
   "source": [
    "sns.catplot(x='income',data=data,hue='Y',kind='count',height=15)\n",
    "plt.show()"
   ]
  },
  {
   "cell_type": "markdown",
   "id": "5bf13dc3",
   "metadata": {},
   "source": [
    "# Inference1:The rows with higher income and lowest income  have relatively high acceptance rates when compared to the rows with avg salaries."
   ]
  },
  {
   "cell_type": "code",
   "execution_count": 14,
   "id": "cf9e5cd6",
   "metadata": {
    "scrolled": false
   },
   "outputs": [
    {
     "data": {
      "image/png": "[encoded data removed]",
      "text/plain": [
       "<Figure size 405.725x360 with 1 Axes>"
      ]
     },
     "metadata": {},
     "output_type": "display_data"
    }
   ],
   "source": [
    "sns.catplot(x='gender',data=data,hue='Y',kind='count')\n",
    "plt.show()"
   ]
  },
  {
   "cell_type": "markdown",
   "id": "a3e32d70",
   "metadata": {},
   "source": [
    "# Inference2:Gender feature has not much impact on acceptance rate of coupon as we can see in the plot"
   ]
  },
  {
   "cell_type": "code",
   "execution_count": 15,
   "id": "4828d8f8",
   "metadata": {},
   "outputs": [
    {
     "data": {
      "image/png": "[encoded data removed]",
      "text/plain": [
       "<Figure size 405.725x360 with 1 Axes>"
      ]
     },
     "metadata": {},
     "output_type": "display_data"
    }
   ],
   "source": [
    "sns.catplot(x='time',data=data,hue='Y',kind='count')\n",
    "plt.show()"
   ]
  },
  {
   "cell_type": "markdown",
   "id": "f0dcc260",
   "metadata": {},
   "source": [
    "# Inference3:At 2pm,10am,6pm the acceptance rates are high compared to rejection rates,where as at 7am and 10pm they are almost equal."
   ]
  },
  {
   "cell_type": "code",
   "execution_count": 16,
   "id": "2a45db99",
   "metadata": {},
   "outputs": [
    {
     "data": {
      "image/png": "[encoded data removed]",
      "text/plain": [
       "<Figure size 405.725x360 with 1 Axes>"
      ]
     },
     "metadata": {},
     "output_type": "display_data"
    }
   ],
   "source": [
    "sns.catplot(x='age',data=data,hue='Y',kind='count')\n",
    "plt.show()"
   ]
  },
  {
   "cell_type": "code",
   "execution_count": 17,
   "id": "8ae75fcf",
   "metadata": {},
   "outputs": [
    {
     "data": {
      "image/png": "[encoded data removed]",
      "text/plain": [
       "<Figure size 405.725x360 with 1 Axes>"
      ]
     },
     "metadata": {},
     "output_type": "display_data"
    }
   ],
   "source": [
    "sns.catplot(x='direction_same',data=data,hue='Y',kind='count')\n",
    "plt.show()"
   ]
  },
  {
   "cell_type": "markdown",
   "id": "a458281c",
   "metadata": {},
   "source": [
    "# if the direction is same the acceptance rates are high"
   ]
  },
  {
   "cell_type": "code",
   "execution_count": null,
   "id": "373f6ffa",
   "metadata": {
    "scrolled": false
   },
   "outputs": [],
   "source": [
    "sns.catplot(x='destination',data=data,hue='Y',kind='count')\n",
    "plt.show()"
   ]
  },
  {
   "cell_type": "markdown",
   "id": "bd969175",
   "metadata": {},
   "source": [
    "# when the destination is no urgent place the acceptance rates are high"
   ]
  },
  {
   "cell_type": "code",
   "execution_count": null,
   "id": "512aecfa",
   "metadata": {},
   "outputs": [],
   "source": [
    "sns.catplot(x='passanger',data=data,hue='Y',kind='count')\n",
    "plt.show() "
   ]
  },
  {
   "cell_type": "code",
   "execution_count": null,
   "id": "14733f53",
   "metadata": {
    "scrolled": false
   },
   "outputs": [],
   "source": [
    "sns.catplot(x='expiration',data=data,hue='Y',kind='count')\n",
    "plt.show() "
   ]
  },
  {
   "cell_type": "markdown",
   "id": "eccf2af8",
   "metadata": {},
   "source": [
    "# when the expiration of the coupon offered is 1d the acceptance rates are high"
   ]
  },
  {
   "cell_type": "code",
   "execution_count": null,
   "id": "ad319566",
   "metadata": {},
   "outputs": [],
   "source": [
    "def visual(s):\n",
    "    sns.countplot(data[s])"
   ]
  },
  {
   "cell_type": "code",
   "execution_count": null,
   "id": "e00d2c5a",
   "metadata": {},
   "outputs": [],
   "source": [
    "visual('destination')"
   ]
  },
  {
   "cell_type": "code",
   "execution_count": null,
   "id": "570a88dd",
   "metadata": {},
   "outputs": [],
   "source": [
    "visual('passanger')"
   ]
  },
  {
   "cell_type": "code",
   "execution_count": null,
   "id": "ea1539a6",
   "metadata": {
    "scrolled": false
   },
   "outputs": [],
   "source": [
    "visual('weather')"
   ]
  },
  {
   "cell_type": "code",
   "execution_count": null,
   "id": "676efc89",
   "metadata": {},
   "outputs": [],
   "source": [
    "visual('time')"
   ]
  },
  {
   "cell_type": "code",
   "execution_count": null,
   "id": "92aa04f3",
   "metadata": {},
   "outputs": [],
   "source": [
    "visual('coupon')"
   ]
  },
  {
   "cell_type": "code",
   "execution_count": null,
   "id": "8f1e4af2",
   "metadata": {},
   "outputs": [],
   "source": [
    "visual('expiration')"
   ]
  },
  {
   "cell_type": "code",
   "execution_count": null,
   "id": "e190a840",
   "metadata": {},
   "outputs": [],
   "source": [
    "visual('maritalStatus')"
   ]
  },
  {
   "cell_type": "code",
   "execution_count": null,
   "id": "2b457961",
   "metadata": {},
   "outputs": [],
   "source": [
    "visual('education')"
   ]
  },
  {
   "cell_type": "code",
   "execution_count": null,
   "id": "f4e2035a",
   "metadata": {},
   "outputs": [],
   "source": [
    "visual('Bar')"
   ]
  },
  {
   "cell_type": "code",
   "execution_count": null,
   "id": "915e95e9",
   "metadata": {},
   "outputs": [],
   "source": [
    "visual('CoffeeHouse')"
   ]
  },
  {
   "cell_type": "code",
   "execution_count": null,
   "id": "abea828e",
   "metadata": {},
   "outputs": [],
   "source": [
    "visual('CarryAway')"
   ]
  },
  {
   "cell_type": "code",
   "execution_count": null,
   "id": "1feed586",
   "metadata": {},
   "outputs": [],
   "source": [
    "visual('income')"
   ]
  },
  {
   "cell_type": "code",
   "execution_count": null,
   "id": "e0f826bb",
   "metadata": {},
   "outputs": [],
   "source": [
    "visual('Restaurant20To50')"
   ]
  },
  {
   "cell_type": "code",
   "execution_count": null,
   "id": "f6716b8e",
   "metadata": {},
   "outputs": [],
   "source": [
    "visual('RestaurantLessThan20')"
   ]
  },
  {
   "cell_type": "markdown",
   "id": "eaa1507b",
   "metadata": {},
   "source": [
    "# with respect our data all the features are categorical in nature so we are using lableEncoder to deal with the data which increases the no of features to great extent which not good for ml algorithms"
   ]
  },
  {
   "cell_type": "code",
   "execution_count": null,
   "id": "e62803c8",
   "metadata": {},
   "outputs": [],
   "source": [
    "df=data"
   ]
  },
  {
   "cell_type": "code",
   "execution_count": null,
   "id": "0d8b2494",
   "metadata": {},
   "outputs": [],
   "source": [
    "number = LabelEncoder()\n",
    "df['destination'] = number.fit_transform(df['destination'])\n",
    "df['passanger'] = number.fit_transform(df['passanger'])\n",
    "df['weather'] = number.fit_transform(df['weather'])\n",
    "df['time'] = number.fit_transform(df['time'])\n",
    "df['coupon'] = number.fit_transform(df['coupon'])\n",
    "df['expiration'] = number.fit_transform(df['expiration'])\n",
    "df['gender'] = number.fit_transform(df['gender'])\n",
    "df['maritalStatus'] = number.fit_transform(df['maritalStatus'])\n",
    "df['education'] = number.fit_transform(df['education'])\n",
    "df['occupation'] = number.fit_transform(df['occupation'])\n",
    "df['Bar'] = number.fit_transform(df['Bar'])\n",
    "df['CoffeeHouse'] = number.fit_transform(df['CoffeeHouse'])\n",
    "df['CarryAway'] = number.fit_transform(df['CarryAway'])\n",
    "df['income'] = number.fit_transform(df['income'])\n",
    "df['age']=number.fit_transform(df['age'])\n",
    "df['Restaurant20To50'] = number.fit_transform(df['Restaurant20To50'])\n",
    "df['RestaurantLessThan20'] = number.fit_transform(df['RestaurantLessThan20'])"
   ]
  },
  {
   "cell_type": "code",
   "execution_count": null,
   "id": "d30a40a9",
   "metadata": {},
   "outputs": [],
   "source": [
    "df.info()"
   ]
  },
  {
   "cell_type": "code",
   "execution_count": null,
   "id": "5c4e3a35",
   "metadata": {},
   "outputs": [],
   "source": [
    "X = df.drop(['Y'],axis=1)\n",
    "y = df['Y']\n",
    "X.head()"
   ]
  },
  {
   "cell_type": "code",
   "execution_count": null,
   "id": "afb8b20c",
   "metadata": {},
   "outputs": [],
   "source": [
    "X_train, X_test, y_train, y_test = train_test_split(X, y, test_size = 0.3,random_state=0)"
   ]
  },
  {
   "cell_type": "code",
   "execution_count": null,
   "id": "9442eb54",
   "metadata": {},
   "outputs": [],
   "source": [
    "data['age'].unique()"
   ]
  },
  {
   "cell_type": "code",
   "execution_count": null,
   "id": "f522eddd",
   "metadata": {},
   "outputs": [],
   "source": [
    "from sklearn.preprocessing import StandardScaler\n",
    "scaler = StandardScaler()\n",
    "X_train = pd.DataFrame(scaler.fit_transform(X_train), columns = X.columns)\n",
    "X_test = pd.DataFrame(scaler.transform(X_test), columns = X.columns)"
   ]
  },
  {
   "cell_type": "code",
   "execution_count": null,
   "id": "2adf2ee0",
   "metadata": {},
   "outputs": [],
   "source": [
    "X_train.head()"
   ]
  },
  {
   "cell_type": "code",
   "execution_count": null,
   "id": "82b9998c",
   "metadata": {},
   "outputs": [],
   "source": [
    "x= sm.add_constant(X)\n",
    "results = sm.OLS(y,x).fit()\n",
    "results.summary()"
   ]
  },
  {
   "cell_type": "markdown",
   "id": "b408d132",
   "metadata": {},
   "source": [
    "#  inference : from the above summary the r -square and adj r-squre are very low so we can't apply linear regression model"
   ]
  },
  {
   "cell_type": "code",
   "execution_count": null,
   "id": "802f2f00",
   "metadata": {},
   "outputs": [],
   "source": [
    "# Logistic Regression\n",
    "LR = LogisticRegression()\n",
    "LR.fit(X_train, y_train)\n",
    "y_pred = LR.predict(X_test)\n",
    "score_LR = LR.score(X_test,y_test)\n",
    "print(classification_report(y_test, y_pred))\n",
    "print('The accuracy of the Logistic Regression model is', score_LR)"
   ]
  },
  {
   "cell_type": "code",
   "execution_count": null,
   "id": "58343bba",
   "metadata": {},
   "outputs": [],
   "source": [
    "# Support Vector Classifier (SVM/SVC)\n",
    "from sklearn.svm import SVC\n",
    "svc = SVC(gamma=0.22)\n",
    "svc.fit(X_train, y_train)\n",
    "y_pred = svc.predict(X_test)\n",
    "score_svc = svc.score(X_test,y_test)\n",
    "print(classification_report(y_test, y_pred))\n",
    "print('The accuracy of SVC model is', score_svc)"
   ]
  },
  {
   "cell_type": "code",
   "execution_count": null,
   "id": "12f3f630",
   "metadata": {},
   "outputs": [],
   "source": [
    "# Decision Tree\n",
    "DT = DecisionTreeClassifier()\n",
    "DT.fit(X_train,y_train)\n",
    "y_pred = DT.predict(X_test)\n",
    "score_DT = DT.score(X_test,y_test)\n",
    "print(classification_report(y_test, y_pred))\n",
    "print(\"The accuracy of the Decision tree model is \",score_DT)"
   ]
  },
  {
   "cell_type": "code",
   "execution_count": null,
   "id": "75b6754c",
   "metadata": {},
   "outputs": [],
   "source": [
    "knn = KNeighborsClassifier()\n",
    "knn.fit(X_train, y_train)\n",
    "y_pred = knn.predict(X_test)\n",
    "score_knn = knn.score(X_test,y_test)\n",
    "print(classification_report(y_test, y_pred))\n",
    "print('The accuracy of the KNN Model is',score_knn)"
   ]
  },
  {
   "cell_type": "code",
   "execution_count": null,
   "id": "9ee1b605",
   "metadata": {},
   "outputs": [],
   "source": [
    "from sklearn.naive_bayes import GaussianNB\n",
    "model = GaussianNB()\n",
    "model.fit(X_train,y_train)\n",
    "y_pred = model.predict(X_test)\n",
    "accuracy=model.score(X_test,y_test)\n",
    "print(classification_report(y_test, y_pred))\n",
    "print('The accuracy of the Naive Bayes Model is',accuracy)"
   ]
  },
  {
   "cell_type": "code",
   "execution_count": null,
   "id": "40815e40",
   "metadata": {},
   "outputs": [],
   "source": []
  }
 ],
 "metadata": {
  "kernelspec": {
   "display_name": "Python 3",
   "language": "python",
   "name": "python3"
  },
  "language_info": {
   "codemirror_mode": {
    "name": "ipython",
    "version": 3
   },
   "file_extension": ".py",
   "mimetype": "text/x-python",
   "name": "python",
   "nbconvert_exporter": "python",
   "pygments_lexer": "ipython3",
   "version": "3.8.8"
  }
 },
 "nbformat": 4,
 "nbformat_minor": 5
}
